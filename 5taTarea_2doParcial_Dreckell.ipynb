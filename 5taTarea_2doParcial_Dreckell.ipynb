{
 "cells": [
  {
   "cell_type": "code",
   "execution_count": null,
   "id": "ef5c881c",
   "metadata": {},
   "outputs": [],
   "source": [
    "pip install wget"
   ]
  },
  {
   "cell_type": "code",
   "execution_count": null,
   "id": "ea38394e",
   "metadata": {},
   "outputs": [],
   "source": [
    "import wget \n",
    "url = \"ftp://ftp.sra.ebi.ac.uk/vol1/fastq/SRR494/SRR494102/SRR494102.fastq.gz\"\n",
    "filename = wget.download(url)\n",
    "print(f\"\\nDescargado:{filename}\")"
   ]
  },
  {
   "cell_type": "code",
   "execution_count": null,
   "id": "e40001fc",
   "metadata": {},
   "outputs": [],
   "source": [
    "import gzip\n",
    "import shutil\n",
    "\n",
    "input_file = \"SRR494102.fastq.gz\"\n",
    "output_file = \"SRR494102.fastq\"\n",
    "\n",
    "with gzip.open(input_file, \"rb\") as f_in: \n",
    "    with open(output_file, \"wb\") as f_out:\n",
    "        shutil.copyfileobj(f_in, f_out)\n",
    "\n",
    "print(\"Archivo descomprimido correctamente\")"
   ]
  },
  {
   "cell_type": "code",
   "execution_count": null,
   "id": "9bba4e91",
   "metadata": {},
   "outputs": [],
   "source": [
    "from Bio import SeqIO\n",
    "fq_dict = SeqIO.index(\"SRR494102.fastq\", \"fastq\")"
   ]
  },
  {
   "cell_type": "code",
   "execution_count": null,
   "id": "7e261f77",
   "metadata": {},
   "outputs": [],
   "source": [
    "len(fq_dict)"
   ]
  },
  {
   "cell_type": "code",
   "execution_count": null,
   "id": "700f957c",
   "metadata": {},
   "outputs": [],
   "source": [
    "list(fq_dict.keys())[:4]"
   ]
  },
  {
   "cell_type": "code",
   "execution_count": null,
   "id": "0e8a26bc",
   "metadata": {},
   "outputs": [],
   "source": [
    "fq_dict[\"SRR494102.20000\"].seq # get 20_000th sequence"
   ]
  },
  {
   "cell_type": "code",
   "execution_count": null,
   "id": "2cabc225",
   "metadata": {},
   "outputs": [],
   "source": [
    "from Bio.Seq import Seq\n",
    "\n",
    "# Ejemplo con una secuencia del FASTQ\n",
    "secuencia_adn = fq_dict[\"SRR494102.20000\"].seq\n",
    "secuencia_arn = secuencia_adn.transcribe()  # Cambia T→U y maneja bases ambiguas\n",
    "\n",
    "print(f\"ADN: {secuencia_adn}\")\n",
    "print(f\"ARN: {secuencia_arn}\")"
   ]
  },
  {
   "cell_type": "code",
   "execution_count": null,
   "id": "a27d47f0",
   "metadata": {},
   "outputs": [],
   "source": [
    "aa_names = {\n",
    "    'A': 'Alanina',\n",
    "    'R': 'Arginina',\n",
    "    'N': 'Asparagina',\n",
    "    'D': 'Ácido aspártico',\n",
    "    'C': 'Cisteína',\n",
    "    'E': 'Ácido glutámico',\n",
    "    'Q': 'Glutamina',\n",
    "    'G': 'Glicina',\n",
    "    'H': 'Histidina',\n",
    "    'I': 'Isoleucina',\n",
    "    'L': 'Leucina',\n",
    "    'K': 'Lisina',\n",
    "    'M': 'Metionina',\n",
    "    'F': 'Fenilalanina',\n",
    "    'P': 'Prolina',\n",
    "    'S': 'Serina',\n",
    "    'T': 'Treonina',\n",
    "    'W': 'Triptófano',\n",
    "    'Y': 'Tirosina',\n",
    "    'V': 'Valina',\n",
    "    '*': 'Stop'  # Codón de parada\n",
    "}"
   ]
  },
  {
   "cell_type": "code",
   "execution_count": null,
   "id": "15cfa90e",
   "metadata": {},
   "outputs": [],
   "source": [
    "from Bio.Seq import Seq\n",
    "\n",
    "# Ejemplo con una secuencia\n",
    "secuencia_adn = Seq(\"AGCAACCACCATGACCACCCCTTCACCAACCACCAC\")  # ADN de ejemplo\n",
    "proteina = secuencia_adn.translate()  # \"MVT*\"\n",
    "\n",
    "# Obtener nombres de los aminoácidos\n",
    "nombres_aa = [aa_names[aa] for aa in proteina]\n",
    "\n",
    "print(\"Secuencia de proteína:\", proteina)\n",
    "print(\"Nombres de aminoácidos:\", \", \".join(nombres_aa))"
   ]
  },
  {
   "cell_type": "code",
   "execution_count": null,
   "id": "ba94c958",
   "metadata": {},
   "outputs": [],
   "source": [
    "from rdkit import Chem\n",
    "from rdkit.Chem import Draw, AllChem\n",
    "import matplotlib.pyplot as plt\n",
    "import numpy as np\n",
    "import warnings\n",
    "warnings.filterwarnings(\"ignore\") \n",
    "\n",
    "# Diccionario de SMILES CORREGIDOS para aminoácidos (formato estándar)\n",
    "aa_smiles = {\n",
    "    'M': 'CSCC(C(=O)O)N',  # Metionina (M) - Corregido\n",
    "    'V': 'CC(C)C(C(=O)O)N',  # Valina (V) - Corregido\n",
    "    'T': 'CC(O)C(C(=O)O)N',  # Treonina (T) - Corregido\n",
    "}\n",
    "\n",
    "# Secuencia de ejemplo: \"MVT\"\n",
    "secuencia_proteina = \"MVT\"\n",
    "mols = []\n",
    "legends = []\n",
    "\n",
    "for aa in secuencia_proteina:\n",
    "    if aa in aa_smiles:\n",
    "        mol = Chem.MolFromSmiles(aa_smiles[aa])\n",
    "        if mol:\n",
    "            AllChem.Compute2DCoords(mol)  # Asegura coordenadas 2D\n",
    "            mols.append(mol)\n",
    "            legends.append(f\"{aa}\")\n",
    "\n",
    "# Dibujar las estructuras\n",
    "if mols:\n",
    "    img = Draw.MolsToGridImage(\n",
    "        mols,\n",
    "        molsPerRow=len(mols),  # Una fila con todos los aminoácidos\n",
    "        subImgSize=(300, 300),\n",
    "        legends=legends,\n",
    "        returnPNG=False\n",
    "    )\n",
    "    \n",
    "    # Mostrar con matplotlib\n",
    "    plt.figure(figsize=(10, 5))\n",
    "    plt.imshow(img)\n",
    "    plt.axis('off')\n",
    "    plt.title(\"Estructuras de Aminoácidos en la Secuencia 'MVT'\")\n",
    "    plt.show()\n",
    "else:\n",
    "    print(\"No se pudieron generar las estructuras. Revisa los SMILES.\")"
   ]
  }
 ],
 "metadata": {
  "language_info": {
   "name": "python"
  }
 },
 "nbformat": 4,
 "nbformat_minor": 5
}
