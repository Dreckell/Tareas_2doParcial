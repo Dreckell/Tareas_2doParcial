{
 "cells": [
  {
   "cell_type": "code",
   "execution_count": 1,
   "id": "351c4a5c",
   "metadata": {},
   "outputs": [
    {
     "data": {
      "application/vnd.plotly.v1+json": {
       "config": {
        "plotlyServerURL": "https://plot.ly"
       },
       "data": [
        {
         "alphahull": 0,
         "color": "cyan",
         "name": "Agua",
         "opacity": 0.3,
         "type": "mesh3d",
         "x": [
          0,
          1,
          1,
          null,
          0,
          1,
          0,
          null,
          0,
          1,
          1,
          null,
          0,
          1,
          0,
          null,
          0,
          1,
          1,
          null,
          0,
          1,
          0,
          null,
          1,
          0,
          0,
          null,
          1,
          0,
          1,
          null,
          1,
          1,
          1,
          null,
          1,
          1,
          1,
          null,
          0,
          0,
          0,
          null,
          0,
          0,
          0,
          null
         ],
         "y": [
          0,
          0,
          1,
          null,
          0,
          1,
          1,
          null,
          0,
          0,
          1,
          null,
          0,
          1,
          1,
          null,
          0,
          0,
          0,
          null,
          0,
          0,
          0,
          null,
          1,
          1,
          1,
          null,
          1,
          1,
          1,
          null,
          0,
          1,
          1,
          null,
          0,
          1,
          0,
          null,
          0,
          1,
          1,
          null,
          0,
          1,
          0,
          null
         ],
         "z": [
          0,
          0,
          0,
          null,
          0,
          0,
          0,
          null,
          1,
          1,
          1,
          null,
          1,
          1,
          1,
          null,
          0,
          0,
          1,
          null,
          0,
          1,
          1,
          null,
          0,
          0,
          1,
          null,
          0,
          1,
          1,
          null,
          0,
          0,
          1,
          null,
          0,
          1,
          1,
          null,
          0,
          0,
          1,
          null,
          0,
          1,
          1,
          null
         ]
        },
        {
         "marker": {
          "color": "red",
          "size": 6
         },
         "mode": "markers",
         "name": "Na⁺",
         "type": "scatter3d",
         "x": {
          "bdata": "7FFfHnf41z+wLGPWNSjjP3BVZJ0iva0/goKa0oeo5j/2E8G/XqPqP0g04YnMecc/WjsvuPyk2z98JL9Q79rBP9yPuShAMN0/E9Tux5t04D+KorjmAXHjP4nQxDNFXe4/6rIgwMp+0z/cUndddSvcPwBoGEtfm6E/dn0F72Ez5T88U0WOpn7hP1iMzFnjzeg//bnoIv8h4z9MVlVo9xXJPw==",
          "dtype": "f8"
         },
         "y": {
          "bdata": "VNa7aEBs7j+EISI3a/jDP7W3VQm3t+s/gH44BxoUlT+YMAOQ7S3LP2iq5HS0eNM/Dr0yjH+j0j9UQMp3f7LSPy46eVYpIOk/F/fdZQ/14j+0PjUHvNPFP6DOQCZ15u4/cHtjJwoBuT+wF4XT5T2/PzFykBknGe0/HrhmAxPz0z9cQoCQT6nHP0OilBVgEO4/tGBOZf5/7T+g14P9ByinPw==",
          "dtype": "f8"
         },
         "z": {
          "bdata": "UWcej35s5z9Mf5nhoPfDP61LkoxVPOM/pVPjYoAJ7z84GeBfCkbHP2M8BwDOyuA/J3WZhUyU4z84t9zxeHLXP3SQHhbpjsk/cEMJN1nIpz+gqmygOKewP5+qih1k3uk/Yc/2qDzl5T8YYqp++rDfPzA4denZj9A/qO7UsGWk4D/mf15X1gbvPw/mtPdsouw/uBNB0nGntj/2msFONtLUPw==",
          "dtype": "f8"
         }
        },
        {
         "marker": {
          "color": "green",
          "size": 6
         },
         "mode": "markers",
         "name": "Cl⁻",
         "type": "scatter3d",
         "x": {
          "bdata": "9oL6tRbg2D/G17jnC9XWP0iJvRTOCcI/KJCx6ZOU7z8AeDUHXJ52P8YjKdcGVOc/3mc1PRrx1j/MPMzpDvLjP3DJWWUi59M/q1AZ7d5m5D/wQxh/up2+Pwem8Zj79eE/A7jXMjq64D/Qe3TGxZ67P56WgYxoHtQ/jLGryc7ozz+g7RUfQknNP3BlFi7mosQ/rwZs9NdE5D9UBqoWh+HHPw==",
          "dtype": "f8"
         },
         "y": {
          "bdata": "GkpRVMhd0T/ENNu81PrRP7w7qQCZq+k/0luUqTq26D9XncuQQhjqP8WAbCY/rug/gFlHPZipvT9gZsPobi3VPxjPU7XNz9Q/mLY++gtk7D+qSWW75tLmP8Y2Bl3Dq+g/uhrjANVc2z/QMFR5fBegP141yAo2RuA/NJhRvLZD2j/o5ymT9LSzP6pWf0oVwO0/zH3TUQHj6z+eeojj14/sPw==",
          "dtype": "f8"
         },
         "z": {
          "bdata": "TNVYhgSF6j+HnxotxF3hP+gXgEDAFbM/qCCy9INvyT8GathKk57mP7hBpB2X9LI/g3BmE4ue6z84vt0rXEWwPyp9XQ7vWOc/9jsQ88Q43j8QDePiWVjoP9jOUthYmt8/oC08uHgHmj9zx+ZdeV3kP+esjtjICu0/SO/PlHkt6D9m646tSYvSP5i6LkUf3Ok/2a7fgK636T8ZIUypSkLhPw==",
          "dtype": "f8"
         }
        }
       ],
       "layout": {
        "legend": {
         "x": 0.7,
         "y": 0.9
        },
        "scene": {
         "aspectmode": "cube",
         "xaxis": {
          "range": [
           0,
           1
          ],
          "title": {
           "text": "X"
          }
         },
         "yaxis": {
          "range": [
           0,
           1
          ],
          "title": {
           "text": "Y"
          }
         },
         "zaxis": {
          "range": [
           0,
           1
          ],
          "title": {
           "text": "Z"
          }
         }
        },
        "template": {
         "data": {
          "bar": [
           {
            "error_x": {
             "color": "#2a3f5f"
            },
            "error_y": {
             "color": "#2a3f5f"
            },
            "marker": {
             "line": {
              "color": "#E5ECF6",
              "width": 0.5
             },
             "pattern": {
              "fillmode": "overlay",
              "size": 10,
              "solidity": 0.2
             }
            },
            "type": "bar"
           }
          ],
          "barpolar": [
           {
            "marker": {
             "line": {
              "color": "#E5ECF6",
              "width": 0.5
             },
             "pattern": {
              "fillmode": "overlay",
              "size": 10,
              "solidity": 0.2
             }
            },
            "type": "barpolar"
           }
          ],
          "carpet": [
           {
            "aaxis": {
             "endlinecolor": "#2a3f5f",
             "gridcolor": "white",
             "linecolor": "white",
             "minorgridcolor": "white",
             "startlinecolor": "#2a3f5f"
            },
            "baxis": {
             "endlinecolor": "#2a3f5f",
             "gridcolor": "white",
             "linecolor": "white",
             "minorgridcolor": "white",
             "startlinecolor": "#2a3f5f"
            },
            "type": "carpet"
           }
          ],
          "choropleth": [
           {
            "colorbar": {
             "outlinewidth": 0,
             "ticks": ""
            },
            "type": "choropleth"
           }
          ],
          "contour": [
           {
            "colorbar": {
             "outlinewidth": 0,
             "ticks": ""
            },
            "colorscale": [
             [
              0,
              "#0d0887"
             ],
             [
              0.1111111111111111,
              "#46039f"
             ],
             [
              0.2222222222222222,
              "#7201a8"
             ],
             [
              0.3333333333333333,
              "#9c179e"
             ],
             [
              0.4444444444444444,
              "#bd3786"
             ],
             [
              0.5555555555555556,
              "#d8576b"
             ],
             [
              0.6666666666666666,
              "#ed7953"
             ],
             [
              0.7777777777777778,
              "#fb9f3a"
             ],
             [
              0.8888888888888888,
              "#fdca26"
             ],
             [
              1,
              "#f0f921"
             ]
            ],
            "type": "contour"
           }
          ],
          "contourcarpet": [
           {
            "colorbar": {
             "outlinewidth": 0,
             "ticks": ""
            },
            "type": "contourcarpet"
           }
          ],
          "heatmap": [
           {
            "colorbar": {
             "outlinewidth": 0,
             "ticks": ""
            },
            "colorscale": [
             [
              0,
              "#0d0887"
             ],
             [
              0.1111111111111111,
              "#46039f"
             ],
             [
              0.2222222222222222,
              "#7201a8"
             ],
             [
              0.3333333333333333,
              "#9c179e"
             ],
             [
              0.4444444444444444,
              "#bd3786"
             ],
             [
              0.5555555555555556,
              "#d8576b"
             ],
             [
              0.6666666666666666,
              "#ed7953"
             ],
             [
              0.7777777777777778,
              "#fb9f3a"
             ],
             [
              0.8888888888888888,
              "#fdca26"
             ],
             [
              1,
              "#f0f921"
             ]
            ],
            "type": "heatmap"
           }
          ],
          "histogram": [
           {
            "marker": {
             "pattern": {
              "fillmode": "overlay",
              "size": 10,
              "solidity": 0.2
             }
            },
            "type": "histogram"
           }
          ],
          "histogram2d": [
           {
            "colorbar": {
             "outlinewidth": 0,
             "ticks": ""
            },
            "colorscale": [
             [
              0,
              "#0d0887"
             ],
             [
              0.1111111111111111,
              "#46039f"
             ],
             [
              0.2222222222222222,
              "#7201a8"
             ],
             [
              0.3333333333333333,
              "#9c179e"
             ],
             [
              0.4444444444444444,
              "#bd3786"
             ],
             [
              0.5555555555555556,
              "#d8576b"
             ],
             [
              0.6666666666666666,
              "#ed7953"
             ],
             [
              0.7777777777777778,
              "#fb9f3a"
             ],
             [
              0.8888888888888888,
              "#fdca26"
             ],
             [
              1,
              "#f0f921"
             ]
            ],
            "type": "histogram2d"
           }
          ],
          "histogram2dcontour": [
           {
            "colorbar": {
             "outlinewidth": 0,
             "ticks": ""
            },
            "colorscale": [
             [
              0,
              "#0d0887"
             ],
             [
              0.1111111111111111,
              "#46039f"
             ],
             [
              0.2222222222222222,
              "#7201a8"
             ],
             [
              0.3333333333333333,
              "#9c179e"
             ],
             [
              0.4444444444444444,
              "#bd3786"
             ],
             [
              0.5555555555555556,
              "#d8576b"
             ],
             [
              0.6666666666666666,
              "#ed7953"
             ],
             [
              0.7777777777777778,
              "#fb9f3a"
             ],
             [
              0.8888888888888888,
              "#fdca26"
             ],
             [
              1,
              "#f0f921"
             ]
            ],
            "type": "histogram2dcontour"
           }
          ],
          "mesh3d": [
           {
            "colorbar": {
             "outlinewidth": 0,
             "ticks": ""
            },
            "type": "mesh3d"
           }
          ],
          "parcoords": [
           {
            "line": {
             "colorbar": {
              "outlinewidth": 0,
              "ticks": ""
             }
            },
            "type": "parcoords"
           }
          ],
          "pie": [
           {
            "automargin": true,
            "type": "pie"
           }
          ],
          "scatter": [
           {
            "fillpattern": {
             "fillmode": "overlay",
             "size": 10,
             "solidity": 0.2
            },
            "type": "scatter"
           }
          ],
          "scatter3d": [
           {
            "line": {
             "colorbar": {
              "outlinewidth": 0,
              "ticks": ""
             }
            },
            "marker": {
             "colorbar": {
              "outlinewidth": 0,
              "ticks": ""
             }
            },
            "type": "scatter3d"
           }
          ],
          "scattercarpet": [
           {
            "marker": {
             "colorbar": {
              "outlinewidth": 0,
              "ticks": ""
             }
            },
            "type": "scattercarpet"
           }
          ],
          "scattergeo": [
           {
            "marker": {
             "colorbar": {
              "outlinewidth": 0,
              "ticks": ""
             }
            },
            "type": "scattergeo"
           }
          ],
          "scattergl": [
           {
            "marker": {
             "colorbar": {
              "outlinewidth": 0,
              "ticks": ""
             }
            },
            "type": "scattergl"
           }
          ],
          "scattermap": [
           {
            "marker": {
             "colorbar": {
              "outlinewidth": 0,
              "ticks": ""
             }
            },
            "type": "scattermap"
           }
          ],
          "scattermapbox": [
           {
            "marker": {
             "colorbar": {
              "outlinewidth": 0,
              "ticks": ""
             }
            },
            "type": "scattermapbox"
           }
          ],
          "scatterpolar": [
           {
            "marker": {
             "colorbar": {
              "outlinewidth": 0,
              "ticks": ""
             }
            },
            "type": "scatterpolar"
           }
          ],
          "scatterpolargl": [
           {
            "marker": {
             "colorbar": {
              "outlinewidth": 0,
              "ticks": ""
             }
            },
            "type": "scatterpolargl"
           }
          ],
          "scatterternary": [
           {
            "marker": {
             "colorbar": {
              "outlinewidth": 0,
              "ticks": ""
             }
            },
            "type": "scatterternary"
           }
          ],
          "surface": [
           {
            "colorbar": {
             "outlinewidth": 0,
             "ticks": ""
            },
            "colorscale": [
             [
              0,
              "#0d0887"
             ],
             [
              0.1111111111111111,
              "#46039f"
             ],
             [
              0.2222222222222222,
              "#7201a8"
             ],
             [
              0.3333333333333333,
              "#9c179e"
             ],
             [
              0.4444444444444444,
              "#bd3786"
             ],
             [
              0.5555555555555556,
              "#d8576b"
             ],
             [
              0.6666666666666666,
              "#ed7953"
             ],
             [
              0.7777777777777778,
              "#fb9f3a"
             ],
             [
              0.8888888888888888,
              "#fdca26"
             ],
             [
              1,
              "#f0f921"
             ]
            ],
            "type": "surface"
           }
          ],
          "table": [
           {
            "cells": {
             "fill": {
              "color": "#EBF0F8"
             },
             "line": {
              "color": "white"
             }
            },
            "header": {
             "fill": {
              "color": "#C8D4E3"
             },
             "line": {
              "color": "white"
             }
            },
            "type": "table"
           }
          ]
         },
         "layout": {
          "annotationdefaults": {
           "arrowcolor": "#2a3f5f",
           "arrowhead": 0,
           "arrowwidth": 1
          },
          "autotypenumbers": "strict",
          "coloraxis": {
           "colorbar": {
            "outlinewidth": 0,
            "ticks": ""
           }
          },
          "colorscale": {
           "diverging": [
            [
             0,
             "#8e0152"
            ],
            [
             0.1,
             "#c51b7d"
            ],
            [
             0.2,
             "#de77ae"
            ],
            [
             0.3,
             "#f1b6da"
            ],
            [
             0.4,
             "#fde0ef"
            ],
            [
             0.5,
             "#f7f7f7"
            ],
            [
             0.6,
             "#e6f5d0"
            ],
            [
             0.7,
             "#b8e186"
            ],
            [
             0.8,
             "#7fbc41"
            ],
            [
             0.9,
             "#4d9221"
            ],
            [
             1,
             "#276419"
            ]
           ],
           "sequential": [
            [
             0,
             "#0d0887"
            ],
            [
             0.1111111111111111,
             "#46039f"
            ],
            [
             0.2222222222222222,
             "#7201a8"
            ],
            [
             0.3333333333333333,
             "#9c179e"
            ],
            [
             0.4444444444444444,
             "#bd3786"
            ],
            [
             0.5555555555555556,
             "#d8576b"
            ],
            [
             0.6666666666666666,
             "#ed7953"
            ],
            [
             0.7777777777777778,
             "#fb9f3a"
            ],
            [
             0.8888888888888888,
             "#fdca26"
            ],
            [
             1,
             "#f0f921"
            ]
           ],
           "sequentialminus": [
            [
             0,
             "#0d0887"
            ],
            [
             0.1111111111111111,
             "#46039f"
            ],
            [
             0.2222222222222222,
             "#7201a8"
            ],
            [
             0.3333333333333333,
             "#9c179e"
            ],
            [
             0.4444444444444444,
             "#bd3786"
            ],
            [
             0.5555555555555556,
             "#d8576b"
            ],
            [
             0.6666666666666666,
             "#ed7953"
            ],
            [
             0.7777777777777778,
             "#fb9f3a"
            ],
            [
             0.8888888888888888,
             "#fdca26"
            ],
            [
             1,
             "#f0f921"
            ]
           ]
          },
          "colorway": [
           "#636efa",
           "#EF553B",
           "#00cc96",
           "#ab63fa",
           "#FFA15A",
           "#19d3f3",
           "#FF6692",
           "#B6E880",
           "#FF97FF",
           "#FECB52"
          ],
          "font": {
           "color": "#2a3f5f"
          },
          "geo": {
           "bgcolor": "white",
           "lakecolor": "white",
           "landcolor": "#E5ECF6",
           "showlakes": true,
           "showland": true,
           "subunitcolor": "white"
          },
          "hoverlabel": {
           "align": "left"
          },
          "hovermode": "closest",
          "mapbox": {
           "style": "light"
          },
          "paper_bgcolor": "white",
          "plot_bgcolor": "#E5ECF6",
          "polar": {
           "angularaxis": {
            "gridcolor": "white",
            "linecolor": "white",
            "ticks": ""
           },
           "bgcolor": "#E5ECF6",
           "radialaxis": {
            "gridcolor": "white",
            "linecolor": "white",
            "ticks": ""
           }
          },
          "scene": {
           "xaxis": {
            "backgroundcolor": "#E5ECF6",
            "gridcolor": "white",
            "gridwidth": 2,
            "linecolor": "white",
            "showbackground": true,
            "ticks": "",
            "zerolinecolor": "white"
           },
           "yaxis": {
            "backgroundcolor": "#E5ECF6",
            "gridcolor": "white",
            "gridwidth": 2,
            "linecolor": "white",
            "showbackground": true,
            "ticks": "",
            "zerolinecolor": "white"
           },
           "zaxis": {
            "backgroundcolor": "#E5ECF6",
            "gridcolor": "white",
            "gridwidth": 2,
            "linecolor": "white",
            "showbackground": true,
            "ticks": "",
            "zerolinecolor": "white"
           }
          },
          "shapedefaults": {
           "line": {
            "color": "#2a3f5f"
           }
          },
          "ternary": {
           "aaxis": {
            "gridcolor": "white",
            "linecolor": "white",
            "ticks": ""
           },
           "baxis": {
            "gridcolor": "white",
            "linecolor": "white",
            "ticks": ""
           },
           "bgcolor": "#E5ECF6",
           "caxis": {
            "gridcolor": "white",
            "linecolor": "white",
            "ticks": ""
           }
          },
          "title": {
           "x": 0.05
          },
          "xaxis": {
           "automargin": true,
           "gridcolor": "white",
           "linecolor": "white",
           "ticks": "",
           "title": {
            "standoff": 15
           },
           "zerolinecolor": "white",
           "zerolinewidth": 2
          },
          "yaxis": {
           "automargin": true,
           "gridcolor": "white",
           "linecolor": "white",
           "ticks": "",
           "title": {
            "standoff": 15
           },
           "zerolinecolor": "white",
           "zerolinewidth": 2
          }
         }
        },
        "title": {
         "text": "Cubo de agua en 3D con iones Na⁺ y Cl⁻"
        }
       }
      }
     },
     "metadata": {},
     "output_type": "display_data"
    }
   ],
   "source": [
    "import numpy as np\n",
    "import plotly.graph_objects as go\n",
    "\n",
    "# Definir vértices del cubo\n",
    "vertices = np.array([\n",
    "    [0, 0, 0], [1, 0, 0], [1, 1, 0], [0, 1, 0],  # base\n",
    "    [0, 0, 1], [1, 0, 1], [1, 1, 1], [0, 1, 1]   # tapa\n",
    "])\n",
    "\n",
    "# Caras definidas por índices de los vértices\n",
    "caras_indices = [\n",
    "    [0,1,2,3], [4,5,6,7], [0,1,5,4],\n",
    "    [2,3,7,6], [1,2,6,5], [0,3,7,4]\n",
    "]\n",
    "\n",
    "# Crear caras para plotly como mallas trianguladas\n",
    "x_faces = []\n",
    "y_faces = []\n",
    "z_faces = []\n",
    "\n",
    "for cara in caras_indices:\n",
    "    # Dividir en dos triángulos para cada cara cuadrada\n",
    "    tri1 = [cara[0], cara[1], cara[2]]\n",
    "    tri2 = [cara[0], cara[2], cara[3]]\n",
    "    for tri in [tri1, tri2]:\n",
    "        x_faces += [vertices[tri[0],0], vertices[tri[1],0], vertices[tri[2],0], None]\n",
    "        y_faces += [vertices[tri[0],1], vertices[tri[1],1], vertices[tri[2],1], None]\n",
    "        z_faces += [vertices[tri[0],2], vertices[tri[1],2], vertices[tri[2],2], None]\n",
    "\n",
    "# Generar posiciones aleatorias de iones Na+ y Cl-\n",
    "num_iones = 20\n",
    "np.random.seed(42)\n",
    "pos_na = np.random.rand(num_iones, 3)\n",
    "pos_cl = np.random.rand(num_iones, 3)\n",
    "\n",
    "# Crear figura interactiva\n",
    "fig = go.Figure()\n",
    "\n",
    "# Cubo de agua (cara transparente azul claro)\n",
    "fig.add_trace(go.Mesh3d(\n",
    "    x=x_faces,\n",
    "    y=y_faces,\n",
    "    z=z_faces,\n",
    "    color='cyan',\n",
    "    opacity=0.3,\n",
    "    alphahull=0,\n",
    "    name='Agua'\n",
    "))\n",
    "\n",
    "# Iones Na+ (rojos)\n",
    "fig.add_trace(go.Scatter3d(\n",
    "    x=pos_na[:,0], y=pos_na[:,1], z=pos_na[:,2],\n",
    "    mode='markers',\n",
    "    marker=dict(size=6, color='red'),\n",
    "    name='Na⁺'\n",
    "))\n",
    "\n",
    "# Iones Cl- (verdes)\n",
    "fig.add_trace(go.Scatter3d(\n",
    "    x=pos_cl[:,0], y=pos_cl[:,1], z=pos_cl[:,2],\n",
    "    mode='markers',\n",
    "    marker=dict(size=6, color='green'),\n",
    "    name='Cl⁻'\n",
    "))\n",
    "\n",
    "# Configurar ejes\n",
    "fig.update_layout(\n",
    "    scene=dict(\n",
    "        xaxis=dict(range=[0,1], title='X'),\n",
    "        yaxis=dict(range=[0,1], title='Y'),\n",
    "        zaxis=dict(range=[0,1], title='Z'),\n",
    "        aspectmode='cube'\n",
    "    ),\n",
    "    title='Cubo de agua en 3D con iones Na⁺ y Cl⁻',\n",
    "    legend=dict(x=0.7, y=0.9)\n",
    ")\n",
    "\n",
    "fig.show()"
   ]
  }
 ],
 "metadata": {
  "kernelspec": {
   "display_name": "bioinformatica_env",
   "language": "python",
   "name": "python3"
  },
  "language_info": {
   "codemirror_mode": {
    "name": "ipython",
    "version": 3
   },
   "file_extension": ".py",
   "mimetype": "text/x-python",
   "name": "python",
   "nbconvert_exporter": "python",
   "pygments_lexer": "ipython3",
   "version": "3.11.11"
  }
 },
 "nbformat": 4,
 "nbformat_minor": 5
}
