{
 "cells": [
  {
   "cell_type": "code",
   "execution_count": 8,
   "id": "3d71d139",
   "metadata": {},
   "outputs": [
    {
     "name": "stdout",
     "output_type": "stream",
     "text": [
      "Calculadora masa de elemento A en compuesto B\n",
      "\n",
      "Masa total de elemento A en 25.0 g del compuesto B: 1700.00 g\n"
     ]
    }
   ],
   "source": [
    "def calcular_masa_elemento_en_compuesto():\n",
    "    print(\"Calculadora masa de elemento A en compuesto B\")\n",
    "\n",
    "    masa_molar_B = float(input(\"Ingresa la masa molar del compuesto B (g/mol): \"))\n",
    "    gramos_B = float(input(\"Ingresa la masa de compuesto B que tienes (g): \"))\n",
    "    masa_atomica_A = float(input(\"Ingresa la masa atómica del elemento A (g/mol): \"))\n",
    "    num_atom_A = int(input(\"Ingresa el número de átomos del elemento A en la fórmula de B: \"))\n",
    "\n",
    "    # Calcular moles del compuesto B\n",
    "    moles_B = gramos_B / masa_molar_B\n",
    "\n",
    "    # Masa total de elemento A\n",
    "    masa_total_A = moles_B * num_atom_A * masa_atomica_A\n",
    "\n",
    "    print(f\"\\nMasa total de elemento A en {gramos_B} g del compuesto B: {masa_total_A:.2f} g\")\n",
    "\n",
    "calcular_masa_elemento_en_compuesto()\n"
   ]
  },
  {
   "cell_type": "code",
   "execution_count": null,
   "id": "5e8cdc06",
   "metadata": {},
   "outputs": [],
   "source": []
  }
 ],
 "metadata": {
  "kernelspec": {
   "display_name": "bioinformatica_env",
   "language": "python",
   "name": "python3"
  },
  "language_info": {
   "codemirror_mode": {
    "name": "ipython",
    "version": 3
   },
   "file_extension": ".py",
   "mimetype": "text/x-python",
   "name": "python",
   "nbconvert_exporter": "python",
   "pygments_lexer": "ipython3",
   "version": "3.11.11"
  }
 },
 "nbformat": 4,
 "nbformat_minor": 5
}
